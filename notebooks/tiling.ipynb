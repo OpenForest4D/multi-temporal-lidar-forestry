{
 "cells": [
  {
   "cell_type": "markdown",
   "id": "27f09778-206e-488d-bb1e-da45d333fbaf",
   "metadata": {},
   "source": [
    "[![Open In Colab](https://colab.research.google.com/assets/colab-badge.svg)](https://colab.research.google.com/github/sreejakr/openforest4d-forest-metrics/blob/main/notebooks/tiling.ipynb)\n",
    "\n",
    "# Lidar LAZ Tiling with LAStools\n",
    "\n",
    "This notebook‑style script shows how to split large Lidar `.laz` files into smaller, overlapping tiles using the LAStools `lastile` utility. Each section includes explanations and runnable Python code.\n",
    "\n",
    "---\n",
    "\n",
    "## Prerequisites\n",
    "\n",
    "- Python 3.x  \n",
    "- LAStools installed, with `lastile` on your system PATH  \n",
    "- A folder of input `.laz` files to tile  \n",
    "\n",
    "Run this cell to verify `lastile` is available:\n"
   ]
  },
  {
   "cell_type": "code",
   "execution_count": 1,
   "id": "88c5ef6f-ce5e-4b55-8617-5bc273ec981f",
   "metadata": {},
   "outputs": [],
   "source": [
    "import os\n",
    "import subprocess"
   ]
  },
  {
   "cell_type": "code",
   "execution_count": null,
   "id": "2d102334-fa15-46c0-9292-cbd18864fa6f",
   "metadata": {},
   "outputs": [],
   "source": [
    "import sys\n",
    "\n",
    "# Connect to local google drive when opened in colab\n",
    "if \"google.colab\" in sys.modules:\n",
    "    from google.colab import drive\n",
    "    drive.mount(\"/gdrive/\")"
   ]
  },
  {
   "cell_type": "code",
   "execution_count": 2,
   "id": "0cc728e0-59ea-4e42-b1b6-1b1f70167477",
   "metadata": {},
   "outputs": [
    {
     "name": "stdout",
     "output_type": "stream",
     "text": [
      " lastile is available!\n"
     ]
    }
   ],
   "source": [
    "try:\n",
    "    subprocess.run([\"lastile\", \"-h\"], stdout=subprocess.DEVNULL, stderr=subprocess.DEVNULL)\n",
    "    print(\" lastile is available!\")\n",
    "except FileNotFoundError:\n",
    "    print(\" lastile not found. Please install LAStools and add to PATH.\")"
   ]
  },
  {
   "cell_type": "markdown",
   "id": "1a0fc14b-447a-4a13-bc45-5fde3a71fed8",
   "metadata": {},
   "source": [
    "## Configuration & tiling workflow\n",
    "\n",
    "This script chops up reprojected LAZ files into square tiles (with a buffer) using LAStools’ `lastile`.\n",
    "Tiles come out as compressed `.laz` and are ready for the next step in the pipeline.\n",
    "\n",
    "### Key settings\n",
    "\n",
    "* **INPUT\\_DIR** – folder with your reprojected `.laz` files.\n",
    "* **OUTPUT\\_DIR** – where the tiles will go. If it doesn’t exist, the script makes it.\n",
    "* **TILE\\_SIZE** – tile width/height in meters (e.g., 1000 for 1×1 km tiles).\n",
    "* **BUFFER** – extra overlap (in meters) around each tile so features at the edges don’t get clipped.\n",
    "* **CORES** – number of CPU cores for `lastile` to use. More cores = faster tiling.\n",
    "* **OUTPUT\\_FORMAT** – either `-olaz` (compressed) or `-olas` (uncompressed LAS).\n",
    "\n",
    "---\n",
    "\n",
    "### What the script does\n",
    "\n",
    "1. **Create the output folder**\n",
    "\n",
    "   ```python\n",
    "   os.makedirs(OUTPUT_DIR, exist_ok=True)\n",
    "   ```\n",
    "\n",
    "   No need to manually make it — it’ll be ready for writing tiles.\n",
    "\n",
    "2. **Loop through input files**\n",
    "\n",
    "   ```python\n",
    "   for filename in os.listdir(INPUT_DIR):\n",
    "       if not filename.lower().endswith(\".laz\"):\n",
    "           continue\n",
    "       input_path = os.path.join(INPUT_DIR, filename)\n",
    "   ```\n",
    "\n",
    "   Skips anything that’s not `.laz` and grabs the full file path for each input.\n",
    "\n",
    "3. **Build the `lastile` command**\n",
    "\n",
    "   ```python\n",
    "   command = [\n",
    "       \"lastile\",\n",
    "       \"-i\", input_path,\n",
    "       \"-tile_size\", str(TILE_SIZE),\n",
    "       \"-buffer\", str(BUFFER),\n",
    "       \"-odir\", OUTPUT_DIR,\n",
    "       \"-olaz\",\n",
    "       \"-cores\", str(CORES)\n",
    "   ]\n",
    "   ```\n",
    "\n",
    "   Main options:\n",
    "\n",
    "   * `-tile_size` → tile dimensions\n",
    "   * `-buffer` → overlap in meters\n",
    "   * `-olaz` or `-olas` → compression setting\n",
    "   * `-cores` → run in parallel\n",
    "\n",
    "4. **Run it and keep going on errors**\n",
    "   If `lastile` fails on one file, the script catches it and moves on. That way one bad LAZ doesn’t kill the whole run.\n",
    "\n",
    "---\n",
    "\n",
    "### If you’d rather do it by hand\n",
    "\n",
    "You can skip the Python wrapper and just run `lastile` in your terminal:\n",
    "\n",
    "```bash\n",
    "lastile \\\n",
    "  -i \"C:/…/USFS_Tahoe_National_2014_reproj/*.laz\" \\\n",
    "  -tile_size 1000 \\\n",
    "  -buffer 20 \\\n",
    "  -odir \"C:/…/USFS_Tahoe_National_Tiled_2014\" \\\n",
    "  -olaz \\\n",
    "  -cores 4\n",
    "```"
   ]
  },
  {
   "cell_type": "code",
   "execution_count": 5,
   "id": "99a39030-a9d4-4121-8b56-67c5f897f13b",
   "metadata": {},
   "outputs": [
    {
     "name": "stdout",
     "output_type": "stream",
     "text": [
      "Output directory ready: C:\\Users\\sreeja\\Documents\\Kaibab\\Mangum_Tiled\n"
     ]
    }
   ],
   "source": [
    "import os\n",
    "import subprocess\n",
    "\n",
    "# Path to folder containing your input .laz files\n",
    "INPUT_DIR = r\"C:\\Users\\sreeja\\Documents\\Kaibab\\Mangum_No_Buffer\"\n",
    "\n",
    "# Path where the tiled files will be written (will be created if needed)\n",
    "OUTPUT_DIR = r\"C:\\Users\\sreeja\\Documents\\Kaibab\\Mangum_Tiled\"\n",
    "\n",
    "# Size of each square tile in meters\n",
    "TILE_SIZE = 1000\n",
    "\n",
    "# Buffer (overlap) around each tile in meters, to avoid edge effects\n",
    "BUFFER = 20\n",
    "\n",
    "# Number of CPU cores to use for parallel tiling\n",
    "CORES = 4\n",
    "\n",
    "# Output format: 'laz' (compressed) or 'las' (uncompressed)\n",
    "OUTPUT_FORMAT = \"laz\"\n",
    "\n",
    "# Create the output directory if it doesn't exist\n",
    "os.makedirs(OUTPUT_DIR, exist_ok=True)\n",
    "print(f\"Output directory ready: {OUTPUT_DIR}\")"
   ]
  },
  {
   "cell_type": "code",
   "execution_count": 5,
   "id": "f4f73680-b135-42fc-a573-ffff867332ed",
   "metadata": {},
   "outputs": [],
   "source": [
    "for filename in os.listdir(INPUT_DIR):\n",
    "    if not filename.lower().endswith(\".laz\"):\n",
    "        continue\n",
    "\n",
    "    input_path = os.path.join(INPUT_DIR, filename)\n",
    "    print(f\"Processing {input_path}…\")\n",
    "\n",
    "    command = [\n",
    "        \"lastile\",\n",
    "        \"-i\",         input_path,        # input file\n",
    "        \"-tile_size\", str(TILE_SIZE),     # tile size in meters\n",
    "        \"-buffer\",    str(BUFFER),        # buffer in meters\n",
    "        \"-odir\",      OUTPUT_DIR,         # output directory\n",
    "        \"-olaz\",                           # write compressed LASzip (.laz)\n",
    "        \"-cores\",     str(CORES)          # number of parallel cores\n",
    "    ]\n",
    "\n",
    "    try:\n",
    "        subprocess.run(command, check=True)\n",
    "        print(f\" Finished tiling {filename}\")\n",
    "    except subprocess.CalledProcessError as e:\n",
    "        print(f\" Error tiling {filename}: exit code {e.returncode}\")\n",
    "        continue\n",
    "\n",
    "print(f\"\\nAll done! Tiles are in:\\n   {OUTPUT_DIR}\")"
   ]
  },
  {
   "cell_type": "code",
   "execution_count": null,
   "id": "3f7194e4-c484-4ee4-9bfe-34c16267d3e1",
   "metadata": {},
   "outputs": [
    {
     "name": "stdout",
     "output_type": "stream",
     "text": [
      "Processing C:\\Users\\sreeja\\Documents\\Kaibab\\Merged\\Castle_Merged.laz…\n"
     ]
    }
   ],
   "source": [
    "import os\n",
    "import subprocess\n",
    "\n",
    "# Path to the single input LAZ file\n",
    "input_path = r\"C:\\Users\\sreeja\\Documents\\Kaibab\\Merged\\Castle_Merged.laz\"\n",
    "\n",
    "# Output directory for tiled files\n",
    "OUTPUT_DIR = r\"C:\\Users\\sreeja\\Documents\\Kaibab\\Castle_Tiled_New\"\n",
    "\n",
    "# Parameters\n",
    "TILE_SIZE = 1000  # meters\n",
    "BUFFER = 20       # meters\n",
    "CORES = 4         # number of CPU cores to use\n",
    "\n",
    "# Ensure output directory exists\n",
    "os.makedirs(OUTPUT_DIR, exist_ok=True)\n",
    "\n",
    "print(f\"Processing {input_path}…\")\n",
    "\n",
    "command = [\n",
    "    \"lastile\",\n",
    "    \"-i\",         input_path,        # input file\n",
    "    \"-tile_size\", str(TILE_SIZE),    # tile size in meters\n",
    "    \"-buffer\",    str(BUFFER),       # buffer in meters\n",
    "    \"-odir\",      OUTPUT_DIR,        # output directory\n",
    "    \"-olaz\",                         # write compressed LASzip (.laz)\n",
    "    \"-cores\",     str(CORES)         # number of parallel cores\n",
    "]\n",
    "\n",
    "try:\n",
    "    subprocess.run(command, check=True)\n",
    "    print(f\"Finished tiling {os.path.basename(input_path)}\")\n",
    "except subprocess.CalledProcessError as e:\n",
    "    print(f\"Error tiling {os.path.basename(input_path)}: exit code {e.returncode}\")\n",
    "\n",
    "print(f\"\\nAll done! Tiles are in:\\n   {OUTPUT_DIR}\")\n"
   ]
  },
  {
   "cell_type": "code",
   "execution_count": null,
   "id": "36e9627f-88a1-4b93-8083-973891932bff",
   "metadata": {},
   "outputs": [],
   "source": []
  }
 ],
 "metadata": {
  "kernelspec": {
   "display_name": "Python (lidar_env)",
   "language": "python",
   "name": "lidar_env"
  },
  "language_info": {
   "codemirror_mode": {
    "name": "ipython",
    "version": 3
   },
   "file_extension": ".py",
   "mimetype": "text/x-python",
   "name": "python",
   "nbconvert_exporter": "python",
   "pygments_lexer": "ipython3",
   "version": "3.13.3"
  }
 },
 "nbformat": 4,
 "nbformat_minor": 5
}
